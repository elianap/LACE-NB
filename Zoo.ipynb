{
 "cells": [
  {
   "cell_type": "code",
   "execution_count": 1,
   "metadata": {
    "ExecuteTime": {
     "end_time": "2020-10-05T09:44:06.816930Z",
     "start_time": "2020-10-05T09:44:05.957405Z"
    }
   },
   "outputs": [],
   "source": [
    "from scipy.io.arff import loadarff\n",
    "from src.dataset import Dataset\n",
    "from src.utils import *\n",
    "from src.import_datasets import *"
   ]
  },
  {
   "cell_type": "markdown",
   "metadata": {},
   "source": [
    "# Import zoo dataset"
   ]
  },
  {
   "cell_type": "code",
   "execution_count": 2,
   "metadata": {
    "ExecuteTime": {
     "end_time": "2020-10-05T09:44:06.844986Z",
     "start_time": "2020-10-05T09:44:06.818205Z"
    }
   },
   "outputs": [],
   "source": [
    "d_train, d_explain, explain_indexes=importZooDataset()"
   ]
  },
  {
   "cell_type": "markdown",
   "metadata": {},
   "source": [
    "# Classifier training"
   ]
  },
  {
   "cell_type": "code",
   "execution_count": 3,
   "metadata": {
    "ExecuteTime": {
     "end_time": "2020-10-05T09:44:06.885259Z",
     "start_time": "2020-10-05T09:44:06.847693Z"
    }
   },
   "outputs": [],
   "source": [
    "classifier_name=\"Random Forest\"\n",
    "clf = get_classifier(classifier_name).fit(d_train.X_numpy(), d_train.Y_numpy())"
   ]
  },
  {
   "cell_type": "markdown",
   "metadata": {},
   "source": [
    "# X-PLAIN"
   ]
  },
  {
   "cell_type": "code",
   "execution_count": 4,
   "metadata": {
    "ExecuteTime": {
     "end_time": "2020-10-05T09:44:07.036611Z",
     "start_time": "2020-10-05T09:44:06.888818Z"
    }
   },
   "outputs": [],
   "source": [
    "from src.LACE_explainer import LACE_explainer\n",
    "explainer = LACE_explainer(clf, d_train, dataset_name=\"zoo\")"
   ]
  },
  {
   "cell_type": "markdown",
   "metadata": {},
   "source": [
    "# Explain instances"
   ]
  },
  {
   "cell_type": "code",
   "execution_count": 5,
   "metadata": {
    "ExecuteTime": {
     "end_time": "2020-10-05T09:44:08.078262Z",
     "start_time": "2020-10-05T09:44:07.038605Z"
    }
   },
   "outputs": [
    {
     "name": "stdout",
     "output_type": "stream",
     "text": [
      "compute_lace_step k=41\n",
      "compute_lace_step k=51\n",
      "['Rule_1={feathers=0, milk=1, backbone=1, breathes=1, venomous=0}']\n"
     ]
    }
   ],
   "source": [
    "i=0\n",
    "instance=d_explain[i]\n",
    "infos={\"d\":\"zoo\", \"model\":\"RF\", \"x\":d_explain.metas[i]}\n",
    "instance=d_explain[i]\n",
    "explanation = explainer.explain_instance(instance, \"mammal\", metas=d_explain.metas[i])\n",
    "explanation.plotExplanation()"
   ]
  },
  {
   "cell_type": "code",
   "execution_count": 6,
   "metadata": {
    "ExecuteTime": {
     "end_time": "2020-10-05T09:44:08.734640Z",
     "start_time": "2020-10-05T09:44:08.079738Z"
    }
   },
   "outputs": [
    {
     "name": "stdout",
     "output_type": "stream",
     "text": [
      "compute_lace_step k=41\n",
      "['Rule_1={hair=0, feathers=1, eggs=1, milk=0, toothed=0, backbone=1, breathes=1, venomous=0, fins=0, legs=2, tail=1}']\n"
     ]
    },
    {
     "data": {
      "image/png": "[encoded data removed]",
      "text/plain": [
       "<Figure size 432x288 with 1 Axes>"
      ]
     },
     "metadata": {},
     "output_type": "display_data"
    }
   ],
   "source": [
    "i=11\n",
    "instance=d_explain[i]\n",
    "explanation = explainer.explain_instance(instance, \"bird\", metas=d_explain.metas[i])\n",
    "explanation.plotExplanation()"
   ]
  }
 ],
 "metadata": {
  "hide_input": false,
  "kernelspec": {
   "display_name": "Python 3",
   "language": "python",
   "name": "python3"
  },
  "language_info": {
   "codemirror_mode": {
    "name": "ipython",
    "version": 3
   },
   "file_extension": ".py",
   "mimetype": "text/x-python",
   "name": "python",
   "nbconvert_exporter": "python",
   "pygments_lexer": "ipython3",
   "version": "3.6.5"
  },
  "toc": {
   "base_numbering": 1,
   "nav_menu": {},
   "number_sections": true,
   "sideBar": true,
   "skip_h1_title": false,
   "title_cell": "Table of Contents",
   "title_sidebar": "Contents",
   "toc_cell": false,
   "toc_position": {},
   "toc_section_display": true,
   "toc_window_display": false
  },
  "varInspector": {
   "cols": {
    "lenName": 16,
    "lenType": 16,
    "lenVar": 40
   },
   "kernels_config": {
    "python": {
     "delete_cmd_postfix": "",
     "delete_cmd_prefix": "del ",
     "library": "var_list.py",
     "varRefreshCmd": "print(var_dic_list())"
    },
    "r": {
     "delete_cmd_postfix": ") ",
     "delete_cmd_prefix": "rm(",
     "library": "var_list.r",
     "varRefreshCmd": "cat(var_dic_list()) "
    }
   },
   "types_to_exclude": [
    "module",
    "function",
    "builtin_function_or_method",
    "instance",
    "_Feature"
   ],
   "window_display": false
  }
 },
 "nbformat": 4,
 "nbformat_minor": 2
}
